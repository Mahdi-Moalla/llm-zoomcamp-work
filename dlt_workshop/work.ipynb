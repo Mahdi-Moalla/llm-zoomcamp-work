{
 "cells": [
  {
   "cell_type": "code",
   "execution_count": 1,
   "id": "e042dd55-e905-49c8-8ea5-4b1922c6c63b",
   "metadata": {},
   "outputs": [
    {
     "name": "stdout",
     "output_type": "stream",
     "text": [
      "dlt                       1.13.0\n"
     ]
    }
   ],
   "source": [
    "! pip list | grep dlt"
   ]
  },
  {
   "cell_type": "code",
   "execution_count": 2,
   "id": "ce46e05c-a3df-465e-95c7-9df67bace9d8",
   "metadata": {},
   "outputs": [
    {
     "data": {
      "application/vnd.jupyter.widget-view+json": {
       "model_id": "c64616bf18674a4b88c71be0fbc1b68d",
       "version_major": 2,
       "version_minor": 0
      },
      "text/plain": [
       "Fetching 5 files:   0%|          | 0/5 [00:00<?, ?it/s]"
      ]
     },
     "metadata": {},
     "output_type": "display_data"
    },
    {
     "data": {
      "application/vnd.jupyter.widget-view+json": {
       "model_id": "5066cbd73c5d45268f8fe5fe4dfe3604",
       "version_major": 2,
       "version_minor": 0
      },
      "text/plain": [
       "tokenizer.json: 0.00B [00:00, ?B/s]"
      ]
     },
     "metadata": {},
     "output_type": "display_data"
    },
    {
     "data": {
      "application/vnd.jupyter.widget-view+json": {
       "model_id": "e2145df2ed834c53853d9c182b1dea37",
       "version_major": 2,
       "version_minor": 0
      },
      "text/plain": [
       "config.json:   0%|          | 0.00/701 [00:00<?, ?B/s]"
      ]
     },
     "metadata": {},
     "output_type": "display_data"
    },
    {
     "data": {
      "application/vnd.jupyter.widget-view+json": {
       "model_id": "ccb94d8fcb064b1a97567dfea4e1d1ae",
       "version_major": 2,
       "version_minor": 0
      },
      "text/plain": [
       "tokenizer_config.json:   0%|          | 0.00/366 [00:00<?, ?B/s]"
      ]
     },
     "metadata": {},
     "output_type": "display_data"
    },
    {
     "data": {
      "application/vnd.jupyter.widget-view+json": {
       "model_id": "4b83cf155577471996d5c95224fa8f5d",
       "version_major": 2,
       "version_minor": 0
      },
      "text/plain": [
       "special_tokens_map.json:   0%|          | 0.00/125 [00:00<?, ?B/s]"
      ]
     },
     "metadata": {},
     "output_type": "display_data"
    },
    {
     "data": {
      "application/vnd.jupyter.widget-view+json": {
       "model_id": "c1c35bcec29f4618ac97d568ac5a8c70",
       "version_major": 2,
       "version_minor": 0
      },
      "text/plain": [
       "model_optimized.onnx:   0%|          | 0.00/133M [00:00<?, ?B/s]"
      ]
     },
     "metadata": {},
     "output_type": "display_data"
    },
    {
     "name": "stdout",
     "output_type": "stream",
     "text": [
      "Run started at 2025-07-09 15:16:45.964107+00:00 and COMPLETED in 1 minute and 38.01 seconds with 4 steps.\n",
      "Step extract COMPLETED in 1.04 seconds.\n",
      "\n",
      "Load package 1752074273.707459 is EXTRACTED and NOT YET LOADED to the destination and contains no failed jobs\n",
      "\n",
      "Step normalize COMPLETED in 0.30 seconds.\n",
      "Normalized data for the following tables:\n",
      "- zoomcamp_data: 948 row(s)\n",
      "- _dlt_pipeline_state: 1 row(s)\n",
      "\n",
      "Load package 1752074273.707459 is NORMALIZED and NOT YET LOADED to the destination and contains no failed jobs\n",
      "\n",
      "Step load COMPLETED in 28.95 seconds.\n",
      "Pipeline zoomcamp_pipeline load step completed in 28.90 seconds\n",
      "1 load package(s) were loaded to destination qdrant and into dataset zoomcamp_data\n",
      "The qdrant destination used /home/work/llm_zoomcamp_work/dlt_workshop/db.qdrant location to store data\n",
      "Load package 1752074273.707459 is LOADED and contains no failed jobs\n",
      "\n",
      "Step run COMPLETED in 1 minute and 38.01 seconds.\n",
      "Pipeline zoomcamp_pipeline load step completed in 28.90 seconds\n",
      "1 load package(s) were loaded to destination qdrant and into dataset zoomcamp_data\n",
      "The qdrant destination used /home/work/llm_zoomcamp_work/dlt_workshop/db.qdrant location to store data\n",
      "Load package 1752074273.707459 is LOADED and contains no failed jobs\n"
     ]
    }
   ],
   "source": [
    "import dlt\n",
    "import requests\n",
    "import pandas as pd\n",
    "from datetime import datetime\n",
    "from dlt.destinations import qdrant\n",
    "\n",
    "\n",
    "@dlt.resource(write_disposition=\"replace\", name=\"zoomcamp_data\")\n",
    "def zoomcamp_data():\n",
    "    docs_url = 'https://github.com/alexeygrigorev/llm-rag-workshop/raw/main/notebooks/documents.json'\n",
    "    docs_response = requests.get(docs_url)\n",
    "    documents_raw = docs_response.json()\n",
    "\n",
    "    for course in documents_raw:\n",
    "        course_name = course['course']\n",
    "\n",
    "        for doc in course['documents']:\n",
    "            doc['course'] = course_name\n",
    "            yield doc\n",
    "\n",
    "\n",
    "\n",
    "\n",
    "qdrant_destination = qdrant(\n",
    "  qd_path=\"db.qdrant\", \n",
    ")\n",
    "\n",
    "pipeline = dlt.pipeline(\n",
    "    pipeline_name=\"zoomcamp_pipeline\",\n",
    "    destination=qdrant_destination,\n",
    "    dataset_name=\"zoomcamp_data\"\n",
    ")\n",
    "\n",
    "load_info = pipeline.run(zoomcamp_data())\n",
    "print(pipeline.last_trace)\n",
    "\n",
    "\n"
   ]
  },
  {
   "cell_type": "code",
   "execution_count": 4,
   "id": "430f0f36-06be-42d1-9590-de52c6a7e7fe",
   "metadata": {},
   "outputs": [
    {
     "data": {
      "text/plain": [
       "{'collections': {'zoomcamp_data': {'vectors': {'fast-bge-small-en': {'size': 384,\n",
       "     'distance': 'Cosine',\n",
       "     'hnsw_config': None,\n",
       "     'quantization_config': None,\n",
       "     'on_disk': None,\n",
       "     'datatype': None,\n",
       "     'multivector_config': None}},\n",
       "   'shard_number': None,\n",
       "   'sharding_method': None,\n",
       "   'replication_factor': None,\n",
       "   'write_consistency_factor': None,\n",
       "   'on_disk_payload': None,\n",
       "   'hnsw_config': None,\n",
       "   'wal_config': None,\n",
       "   'optimizers_config': None,\n",
       "   'init_from': None,\n",
       "   'quantization_config': None,\n",
       "   'sparse_vectors': None,\n",
       "   'strict_mode_config': None},\n",
       "  'zoomcamp_data__dlt_version': {'vectors': {'fast-bge-small-en': {'size': 384,\n",
       "     'distance': 'Cosine',\n",
       "     'hnsw_config': None,\n",
       "     'quantization_config': None,\n",
       "     'on_disk': None,\n",
       "     'datatype': None,\n",
       "     'multivector_config': None}},\n",
       "   'shard_number': None,\n",
       "   'sharding_method': None,\n",
       "   'replication_factor': None,\n",
       "   'write_consistency_factor': None,\n",
       "   'on_disk_payload': None,\n",
       "   'hnsw_config': None,\n",
       "   'wal_config': None,\n",
       "   'optimizers_config': None,\n",
       "   'init_from': None,\n",
       "   'quantization_config': None,\n",
       "   'sparse_vectors': None,\n",
       "   'strict_mode_config': None},\n",
       "  'zoomcamp_data__dlt_loads': {'vectors': {'fast-bge-small-en': {'size': 384,\n",
       "     'distance': 'Cosine',\n",
       "     'hnsw_config': None,\n",
       "     'quantization_config': None,\n",
       "     'on_disk': None,\n",
       "     'datatype': None,\n",
       "     'multivector_config': None}},\n",
       "   'shard_number': None,\n",
       "   'sharding_method': None,\n",
       "   'replication_factor': None,\n",
       "   'write_consistency_factor': None,\n",
       "   'on_disk_payload': None,\n",
       "   'hnsw_config': None,\n",
       "   'wal_config': None,\n",
       "   'optimizers_config': None,\n",
       "   'init_from': None,\n",
       "   'quantization_config': None,\n",
       "   'sparse_vectors': None,\n",
       "   'strict_mode_config': None},\n",
       "  'zoomcamp_data__dlt_pipeline_state': {'vectors': {'fast-bge-small-en': {'size': 384,\n",
       "     'distance': 'Cosine',\n",
       "     'hnsw_config': None,\n",
       "     'quantization_config': None,\n",
       "     'on_disk': None,\n",
       "     'datatype': None,\n",
       "     'multivector_config': None}},\n",
       "   'shard_number': None,\n",
       "   'sharding_method': None,\n",
       "   'replication_factor': None,\n",
       "   'write_consistency_factor': None,\n",
       "   'on_disk_payload': None,\n",
       "   'hnsw_config': None,\n",
       "   'wal_config': None,\n",
       "   'optimizers_config': None,\n",
       "   'init_from': None,\n",
       "   'quantization_config': None,\n",
       "   'sparse_vectors': None,\n",
       "   'strict_mode_config': None},\n",
       "  'zoomcamp_data_zoomcamp_data': {'vectors': {'fast-bge-small-en': {'size': 384,\n",
       "     'distance': 'Cosine',\n",
       "     'hnsw_config': None,\n",
       "     'quantization_config': None,\n",
       "     'on_disk': None,\n",
       "     'datatype': None,\n",
       "     'multivector_config': None}},\n",
       "   'shard_number': None,\n",
       "   'sharding_method': None,\n",
       "   'replication_factor': None,\n",
       "   'write_consistency_factor': None,\n",
       "   'on_disk_payload': None,\n",
       "   'hnsw_config': None,\n",
       "   'wal_config': None,\n",
       "   'optimizers_config': None,\n",
       "   'init_from': None,\n",
       "   'quantization_config': None,\n",
       "   'sparse_vectors': None,\n",
       "   'strict_mode_config': None}},\n",
       " 'aliases': {}}"
      ]
     },
     "execution_count": 4,
     "metadata": {},
     "output_type": "execute_result"
    }
   ],
   "source": [
    "import json\n",
    "\n",
    "with open(\"db.qdrant/meta.json\",'r') as f:\n",
    "    meta=json.load(f)\n",
    "\n",
    "meta"
   ]
  },
  {
   "cell_type": "code",
   "execution_count": null,
   "id": "787d042c-32c5-4f55-96c6-e0409e183319",
   "metadata": {},
   "outputs": [],
   "source": []
  }
 ],
 "metadata": {
  "kernelspec": {
   "display_name": "Python 3 (ipykernel)",
   "language": "python",
   "name": "python3"
  },
  "language_info": {
   "codemirror_mode": {
    "name": "ipython",
    "version": 3
   },
   "file_extension": ".py",
   "mimetype": "text/x-python",
   "name": "python",
   "nbconvert_exporter": "python",
   "pygments_lexer": "ipython3",
   "version": "3.12.11"
  }
 },
 "nbformat": 4,
 "nbformat_minor": 5
}
