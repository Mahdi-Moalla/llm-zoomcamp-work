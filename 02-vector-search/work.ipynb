{
 "cells": [
  {
   "cell_type": "code",
   "execution_count": 51,
   "id": "d9b59f58",
   "metadata": {},
   "outputs": [],
   "source": [
    "import json\n",
    "import pprint\n",
    "\n",
    "import numpy as np\n",
    "import pandas as pd\n",
    "\n",
    "from fastembed import TextEmbedding\n",
    "from qdrant_client import QdrantClient, models"
   ]
  },
  {
   "cell_type": "code",
   "execution_count": 4,
   "id": "36147278",
   "metadata": {},
   "outputs": [
    {
     "data": {
      "application/vnd.jupyter.widget-view+json": {
       "model_id": "1ff4fdf0ab934b768a9e66e37d5eed1a",
       "version_major": 2,
       "version_minor": 0
      },
      "text/plain": [
       "Fetching 5 files:   0%|          | 0/5 [00:00<?, ?it/s]"
      ]
     },
     "metadata": {},
     "output_type": "display_data"
    },
    {
     "data": {
      "application/vnd.jupyter.widget-view+json": {
       "model_id": "f66d5bf0f0b04978844ff51b777c072e",
       "version_major": 2,
       "version_minor": 0
      },
      "text/plain": [
       "onnx/model.onnx:   0%|          | 0.00/130M [00:00<?, ?B/s]"
      ]
     },
     "metadata": {},
     "output_type": "display_data"
    }
   ],
   "source": [
    "model_handle = 'jinaai/jina-embeddings-v2-small-en'\n",
    "model = TextEmbedding(model_name=model_handle)"
   ]
  },
  {
   "cell_type": "code",
   "execution_count": 16,
   "id": "e3edd876-3857-40d8-af09-fb6d8d490401",
   "metadata": {},
   "outputs": [
    {
     "data": {
      "text/plain": [
       "np.float64(-0.11726373885183883)"
      ]
     },
     "execution_count": 16,
     "metadata": {},
     "output_type": "execute_result"
    }
   ],
   "source": [
    "# Q1\n",
    "query='I just discovered the course. Can I join now?'\n",
    "query_embedding=list(model.embed([query]))[0]\n",
    "query_embedding.min()"
   ]
  },
  {
   "cell_type": "code",
   "execution_count": 17,
   "id": "a845a201-e268-49c6-b142-ca25f3882199",
   "metadata": {},
   "outputs": [
    {
     "data": {
      "text/plain": [
       "np.float64(1.0000000000000002)"
      ]
     },
     "execution_count": 17,
     "metadata": {},
     "output_type": "execute_result"
    }
   ],
   "source": [
    "np.linalg.norm(embedding)"
   ]
  },
  {
   "cell_type": "code",
   "execution_count": 30,
   "id": "918aed7d-009c-405b-be91-acc056ceb86f",
   "metadata": {},
   "outputs": [
    {
     "data": {
      "text/plain": [
       "np.float64(0.9008528895674548)"
      ]
     },
     "execution_count": 30,
     "metadata": {},
     "output_type": "execute_result"
    }
   ],
   "source": [
    "# Q2\n",
    "doc = 'Can I still join the course after the start date?'\n",
    "doc_embedding=list(model.embed([doc]))[0]\n",
    "doc_embedding @ query_embedding\n"
   ]
  },
  {
   "cell_type": "code",
   "execution_count": 15,
   "id": "bcdbd600-ee24-4d58-a914-2d677ddab377",
   "metadata": {},
   "outputs": [],
   "source": [
    "documents = [{'text': \"Yes, even if you don't register, you're still eligible to submit the homeworks.\\nBe aware, however, that there will be deadlines for turning in the final projects. So don't leave everything for the last minute.\",\n",
    "  'section': 'General course-related questions',\n",
    "  'question': 'Course - Can I still join the course after the start date?',\n",
    "  'course': 'data-engineering-zoomcamp'},\n",
    " {'text': 'Yes, we will keep all the materials after the course finishes, so you can follow the course at your own pace after it finishes.\\nYou can also continue looking at the homeworks and continue preparing for the next cohort. I guess you can also start working on your final capstone project.',\n",
    "  'section': 'General course-related questions',\n",
    "  'question': 'Course - Can I follow the course after it finishes?',\n",
    "  'course': 'data-engineering-zoomcamp'},\n",
    " {'text': \"The purpose of this document is to capture frequently asked technical questions\\nThe exact day and hour of the course will be 15th Jan 2024 at 17h00. The course will start with the first  “Office Hours'' live.1\\nSubscribe to course public Google Calendar (it works from Desktop only).\\nRegister before the course starts using this link.\\nJoin the course Telegram channel with announcements.\\nDon’t forget to register in DataTalks.Club's Slack and join the channel.\",\n",
    "  'section': 'General course-related questions',\n",
    "  'question': 'Course - When will the course start?',\n",
    "  'course': 'data-engineering-zoomcamp'},\n",
    " {'text': 'You can start by installing and setting up all the dependencies and requirements:\\nGoogle cloud account\\nGoogle Cloud SDK\\nPython 3 (installed with Anaconda)\\nTerraform\\nGit\\nLook over the prerequisites and syllabus to see if you are comfortable with these subjects.',\n",
    "  'section': 'General course-related questions',\n",
    "  'question': 'Course - What can I do before the course starts?',\n",
    "  'course': 'data-engineering-zoomcamp'},\n",
    " {'text': 'Star the repo! Share it with friends if you find it useful ❣️\\nCreate a PR if you see you can improve the text or the structure of the repository.',\n",
    "  'section': 'General course-related questions',\n",
    "  'question': 'How can we contribute to the course?',\n",
    "  'course': 'data-engineering-zoomcamp'}]"
   ]
  },
  {
   "cell_type": "code",
   "execution_count": 31,
   "id": "51111b95-e54c-462f-b594-50429a16ea95",
   "metadata": {},
   "outputs": [
    {
     "name": "stdout",
     "output_type": "stream",
     "text": [
      "(5, 512)\n",
      "[0.76296845 0.81823782 0.80853974 0.71330788 0.73044992]\n"
     ]
    },
    {
     "data": {
      "text/plain": [
       "np.int64(1)"
      ]
     },
     "execution_count": 31,
     "metadata": {},
     "output_type": "execute_result"
    }
   ],
   "source": [
    "# Q3\n",
    "documents_embeddings=list(model.embed([doc['text'] for doc in documents]))\n",
    "V=np.array(documents_embeddings)\n",
    "print(V.shape)\n",
    "print(V @ query_embedding)\n",
    "(V @ query_embedding).argmax()"
   ]
  },
  {
   "cell_type": "code",
   "execution_count": 39,
   "id": "689338b8-6beb-4dbe-ac6a-805e29396dba",
   "metadata": {},
   "outputs": [],
   "source": []
  },
  {
   "cell_type": "code",
   "execution_count": 41,
   "id": "5b5ba880-7bb6-4936-a5a9-c79e94136dd9",
   "metadata": {},
   "outputs": [
    {
     "name": "stdout",
     "output_type": "stream",
     "text": [
      "(5, 512)\n",
      "[0.85145432 0.8436594  0.84082872 0.77551577 0.80860079]\n"
     ]
    },
    {
     "data": {
      "text/plain": [
       "np.int64(0)"
      ]
     },
     "execution_count": 41,
     "metadata": {},
     "output_type": "execute_result"
    }
   ],
   "source": [
    "# Q4\n",
    "\n",
    "# question 0 is much more similar to  the query\n",
    "\n",
    "[ doc.update(full_text = doc['question'] + ' ' + doc['text']) for  doc in documents ];\n",
    "\n",
    "documents_embeddings=list(model.embed([doc['full_text'] for doc in documents]))\n",
    "V=np.array(documents_embeddings)\n",
    "print(V.shape)\n",
    "print(V @ query_embedding)\n",
    "(V @ query_embedding).argmax()\n"
   ]
  },
  {
   "cell_type": "code",
   "execution_count": 46,
   "id": "1a74e42f-b4de-45b8-b9c4-00fea620b86a",
   "metadata": {},
   "outputs": [
    {
     "name": "stdout",
     "output_type": "stream",
     "text": [
      "{'model': 'BAAI/bge-small-en',\n",
      " 'sources': {'hf': 'Qdrant/bge-small-en',\n",
      "             'url': 'https://storage.googleapis.com/qdrant-fastembed/BAAI-bge-small-en.tar.gz',\n",
      "             '_deprecated_tar_struct': True},\n",
      " 'model_file': 'model_optimized.onnx',\n",
      " 'description': 'Text embeddings, Unimodal (text), English, 512 input tokens '\n",
      "                'truncation, Prefixes for queries/documents: necessary, 2023 '\n",
      "                'year.',\n",
      " 'license': 'mit',\n",
      " 'size_in_GB': 0.13,\n",
      " 'additional_files': [],\n",
      " 'dim': 384,\n",
      " 'tasks': {}}\n"
     ]
    }
   ],
   "source": [
    "# Q5\n",
    "min_embed=1024\n",
    "model_min_embed={}\n",
    "for model in TextEmbedding.list_supported_models():\n",
    "    if model['dim']<min_embed:\n",
    "        min_embed=model['dim']\n",
    "        model_min_embed=model\n",
    "\n",
    "pprint.pp(model_min_embed)"
   ]
  },
  {
   "cell_type": "code",
   "execution_count": 47,
   "id": "a2838460-5d11-413b-8976-209ce5de6a92",
   "metadata": {},
   "outputs": [],
   "source": [
    "# Q6\n",
    "\n",
    "model_handle='BAAI/bge-small-en'\n",
    "\n",
    "import requests \n",
    "\n",
    "docs_url = 'https://github.com/alexeygrigorev/llm-rag-workshop/raw/main/notebooks/documents.json'\n",
    "docs_response = requests.get(docs_url)\n",
    "documents_raw = docs_response.json()\n",
    "\n"
   ]
  },
  {
   "cell_type": "code",
   "execution_count": 48,
   "id": "087e2f3d-7a55-4e24-8bb8-4d57871ea061",
   "metadata": {},
   "outputs": [],
   "source": [
    "documents = []\n",
    "\n",
    "for course in documents_raw:\n",
    "    course_name = course['course']\n",
    "    if course_name != 'machine-learning-zoomcamp':\n",
    "        continue\n",
    "\n",
    "    for doc in course['documents']:\n",
    "        doc['course'] = course_name\n",
    "        documents.append(doc)"
   ]
  },
  {
   "cell_type": "code",
   "execution_count": 50,
   "id": "b4ebba9a-aa24-440b-808e-1ff7471b6391",
   "metadata": {},
   "outputs": [],
   "source": [
    "'''\n",
    "docker pull qdrant/qdrant\n",
    "\n",
    "docker run -it -p 6333:6333 -p 6334:6334 \\\n",
    "   -v \"$(pwd)/qdrant_storage:/qdrant/storage:z\" \\\n",
    "   qdrant/qdrant\n",
    "''';"
   ]
  },
  {
   "cell_type": "code",
   "execution_count": 52,
   "id": "94ff162f-d97c-4a83-b448-8d70348b4163",
   "metadata": {},
   "outputs": [],
   "source": [
    "client = QdrantClient(\"http://localhost:6333\")"
   ]
  },
  {
   "cell_type": "code",
   "execution_count": 53,
   "id": "92832d7f-6104-49fb-907d-987b008525f6",
   "metadata": {},
   "outputs": [],
   "source": [
    "# Define the collection name\n",
    "collection_name = \"zoomcamp-rag\"\n",
    "\n",
    "# Create the collection with specified vector parameters\n",
    "client.create_collection(\n",
    "    collection_name=collection_name,\n",
    "    vectors_config=models.VectorParams(\n",
    "        size=min_embed,  # Dimensionality of the vectors\n",
    "        distance=models.Distance.COSINE  # Distance metric for similarity search\n",
    "    )\n",
    ")\n",
    "\n",
    "\n",
    "points = []\n",
    "id = 0\n",
    "\n",
    "for course in documents_raw:\n",
    "    for doc in course['documents']:\n",
    "\n",
    "        point = models.PointStruct(\n",
    "            id=id,\n",
    "            vector=models.Document(text=doc['question'] + ' ' + doc['text'], \n",
    "                                   model=model_handle),\n",
    "            payload={\n",
    "                \"text\": doc['text'],\n",
    "                \"section\": doc['section'],\n",
    "                \"course\": course['course']\n",
    "            } #save all needed metadata fields\n",
    "        )\n",
    "        points.append(point)\n",
    "\n",
    "        id += 1\n",
    "\n"
   ]
  },
  {
   "cell_type": "code",
   "execution_count": 54,
   "id": "3c4ea0c2-2a7c-4bfd-aef8-33f20dd63b7c",
   "metadata": {},
   "outputs": [
    {
     "data": {
      "application/vnd.jupyter.widget-view+json": {
       "model_id": "40f4f5520f6f46dd93a6f7c974e07cbc",
       "version_major": 2,
       "version_minor": 0
      },
      "text/plain": [
       "Fetching 5 files:   0%|          | 0/5 [00:00<?, ?it/s]"
      ]
     },
     "metadata": {},
     "output_type": "display_data"
    },
    {
     "data": {
      "application/vnd.jupyter.widget-view+json": {
       "model_id": "60785d4127294639a7d2ea0f29293210",
       "version_major": 2,
       "version_minor": 0
      },
      "text/plain": [
       "tokenizer.json: 0.00B [00:00, ?B/s]"
      ]
     },
     "metadata": {},
     "output_type": "display_data"
    },
    {
     "data": {
      "application/vnd.jupyter.widget-view+json": {
       "model_id": "429c1fed660a4e16b93289906a0ae5b0",
       "version_major": 2,
       "version_minor": 0
      },
      "text/plain": [
       "tokenizer_config.json:   0%|          | 0.00/366 [00:00<?, ?B/s]"
      ]
     },
     "metadata": {},
     "output_type": "display_data"
    },
    {
     "data": {
      "application/vnd.jupyter.widget-view+json": {
       "model_id": "376d9385d5fa48a08af130a2c1502c68",
       "version_major": 2,
       "version_minor": 0
      },
      "text/plain": [
       "config.json:   0%|          | 0.00/701 [00:00<?, ?B/s]"
      ]
     },
     "metadata": {},
     "output_type": "display_data"
    },
    {
     "data": {
      "application/vnd.jupyter.widget-view+json": {
       "model_id": "4f81059c2f0d4799837411fae8580be7",
       "version_major": 2,
       "version_minor": 0
      },
      "text/plain": [
       "special_tokens_map.json:   0%|          | 0.00/125 [00:00<?, ?B/s]"
      ]
     },
     "metadata": {},
     "output_type": "display_data"
    },
    {
     "data": {
      "application/vnd.jupyter.widget-view+json": {
       "model_id": "cff0ca3c650f490ab2f4526e75fd556f",
       "version_major": 2,
       "version_minor": 0
      },
      "text/plain": [
       "model_optimized.onnx:   0%|          | 0.00/133M [00:00<?, ?B/s]"
      ]
     },
     "metadata": {},
     "output_type": "display_data"
    },
    {
     "data": {
      "text/plain": [
       "UpdateResult(operation_id=0, status=<UpdateStatus.COMPLETED: 'completed'>)"
      ]
     },
     "execution_count": 54,
     "metadata": {},
     "output_type": "execute_result"
    }
   ],
   "source": [
    "client.upsert(\n",
    "    collection_name=collection_name,\n",
    "    points=points\n",
    ")"
   ]
  },
  {
   "cell_type": "code",
   "execution_count": 56,
   "id": "fd0c3e39-d9fb-4184-b3d5-58775f9e167e",
   "metadata": {},
   "outputs": [
    {
     "data": {
      "text/plain": [
       "0.87031734"
      ]
     },
     "execution_count": 56,
     "metadata": {},
     "output_type": "execute_result"
    }
   ],
   "source": [
    "def search(query, limit=1):\n",
    "\n",
    "    results = client.query_points(\n",
    "        collection_name=collection_name,\n",
    "        query=models.Document( #embed the query text locally with \"jinaai/jina-embeddings-v2-small-en\"\n",
    "            text=query,\n",
    "            model=model_handle \n",
    "        ),\n",
    "        limit=limit, # top closest matches\n",
    "        with_payload=True, #to get metadata in the results\n",
    "        with_vectors=True\n",
    "    )\n",
    "\n",
    "    return results\n",
    "\n",
    "result=search(query)\n",
    "result.points[0].score"
   ]
  },
  {
   "cell_type": "code",
   "execution_count": null,
   "id": "f9bfae1a-2cb3-471c-8e50-fba8e335829b",
   "metadata": {},
   "outputs": [],
   "source": []
  }
 ],
 "metadata": {
  "kernelspec": {
   "display_name": "Python 3 (ipykernel)",
   "language": "python",
   "name": "python3"
  },
  "language_info": {
   "codemirror_mode": {
    "name": "ipython",
    "version": 3
   },
   "file_extension": ".py",
   "mimetype": "text/x-python",
   "name": "python",
   "nbconvert_exporter": "python",
   "pygments_lexer": "ipython3",
   "version": "3.12.11"
  }
 },
 "nbformat": 4,
 "nbformat_minor": 5
}
